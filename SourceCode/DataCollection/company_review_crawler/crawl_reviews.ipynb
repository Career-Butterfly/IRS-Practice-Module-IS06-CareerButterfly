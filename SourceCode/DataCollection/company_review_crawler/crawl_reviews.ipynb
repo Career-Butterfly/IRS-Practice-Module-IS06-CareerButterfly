{
 "cells": [
  {
   "cell_type": "code",
   "execution_count": null,
   "metadata": {},
   "outputs": [],
   "source": [
    "\n",
    "# Setup\n",
    "import time\n",
    "from selenium import webdriver\n",
    "from selenium.webdriver.chrome.options import Options\n",
    "import pandas as pd\n",
    "from page_objects.login_page import LoginPage\n",
    "from page_objects.companies_page import CompaniesPage\n",
    "from page_objects.nav import Nav\n",
    "from page_objects.company_details_page import CompanyDetailPage\n",
    "from page_objects.utils import get_text_from_elem\n",
    "import random\n",
    "import os\n",
    "from datetime import date\n",
    "import logging\n",
    "from functools import partial\n",
    "\n",
    "options = Options()\n",
    "options.add_argument(\"window-size=1200x600\")\n",
    "\n",
    "driver = webdriver.Chrome(options=options)\n",
    "\n",
    "driver.get(\"https://www.glassdoor.sg\")\n",
    "\n",
    "# Output directory\n",
    "COMPANY_REVIEWS_DATA = './data'\n",
    "\n",
    "logging.basicConfig(filename=f'{COMPANY_REVIEWS_DATA}/crawl_reviews.log', encoding='utf-8', level=logging.INFO)\n",
    "\n",
    "# Init page objects\n",
    "login_page = LoginPage(driver)\n",
    "nav = Nav(driver)\n",
    "companies_page = CompaniesPage(driver)\n",
    "companies_details_page = CompanyDetailPage(driver)"
   ]
  },
  {
   "cell_type": "code",
   "execution_count": null,
   "metadata": {},
   "outputs": [],
   "source": [
    "# Login\n",
    "login_page.login()"
   ]
  },
  {
   "cell_type": "code",
   "execution_count": null,
   "metadata": {},
   "outputs": [],
   "source": [
    "# Route to 'Companies' page\n",
    "nav.route_to_companies()\n",
    "\n",
    "# Filter by location and job function in 'Companies' page\n",
    "companies_page.filter_by_location('Singapore', 'Singapore (Singapore)')\n",
    "companies_page.filter_by_job_function(['Engineering', 'Information Technology'])"
   ]
  },
  {
   "cell_type": "code",
   "execution_count": null,
   "metadata": {},
   "outputs": [],
   "source": [
    "csv_filename = 'company_reviews.csv'\n",
    "\n",
    "def crawl_reviews():\n",
    "    companies_details_page.change_tab('Reviews')\n",
    "    time.sleep(random.randint(1,2))\n",
    "    companies_details_page.toggle_filter()\n",
    "    time.sleep(random.randint(1,2))\n",
    "    companies_details_page.filter_by_location('option_N\\\\\\\\,217')\n",
    "    time.sleep(random.randint(2,3))\n",
    "    companies_details_page.filter_by_job_fn('option_1007')\n",
    "    time.sleep(random.randint(2,3))\n",
    "\n",
    "    df = None\n",
    "    company_name = companies_details_page.get_emp_name()\n",
    "\n",
    "    def save_company_reviews(elem, idx):\n",
    "        nonlocal df\n",
    "        data = {\n",
    "            'company_name': company_name,\n",
    "            'date_posted': get_text_from_elem(elem, 'span.review-details__review-details-module__reviewDate'),\n",
    "            'rating': get_text_from_elem(elem, 'span.review-details__review-details-module__overallRating'),\n",
    "            'review_title': get_text_from_elem(elem, 'h2[data-test=\"review-details-title\"]'),\n",
    "            'job_position': get_text_from_elem(elem, 'span.review-details__review-details-module__employee'),\n",
    "            'job_location': get_text_from_elem(elem, 'span.review-details__review-details-module__location'),\n",
    "            'pro_review': get_text_from_elem(elem, 'span[data-test=\"review-text-pros\"]'),\n",
    "            'con_review': get_text_from_elem(elem, 'span[data-test=\"review-text-cons\"]'),\n",
    "        }\n",
    "        df = pd.concat([df, pd.DataFrame([data])]) if df is not None else pd.DataFrame([data])\n",
    "\n",
    "    try:\n",
    "        companies_details_page.iterate_pages(\n",
    "            save_company_reviews,\n",
    "            start=1,\n",
    "            end=20,\n",
    "            suppress_page_error=True\n",
    "        )\n",
    "    except Exception as e:\n",
    "        # Error changing page, propagate error to companies_page.iterate_pages handler\n",
    "        raise e\n",
    "    finally:\n",
    "        if df is not None:\n",
    "            if os.path.isfile(f'{COMPANY_REVIEWS_DATA}/{csv_filename}'):\n",
    "                df.to_csv(csv_filename, mode='a', header=False)\n",
    "            else:\n",
    "                df.to_csv(csv_filename)"
   ]
  },
  {
   "cell_type": "code",
   "execution_count": null,
   "metadata": {},
   "outputs": [],
   "source": [
    "def open_company_details(elem, idx):\n",
    "    elem.click()\n",
    "    time.sleep(random.randint(1,3))\n",
    "    windows = driver.window_handles\n",
    "    driver.switch_to.window(windows[1])\n",
    "    crawl_reviews()\n",
    "    driver.close()\n",
    "    driver.switch_to.window(windows[0])\n",
    "    time.sleep(random.randint(1,3))"
   ]
  },
  {
   "cell_type": "code",
   "execution_count": null,
   "metadata": {},
   "outputs": [],
   "source": [
    "logging.info('Started crawling company reviews.')\n",
    "companies_page.iterate_pages(\n",
    "    open_company_details,\n",
    "    start=1,\n",
    "    end=100,\n",
    "    suppress_page_error=True\n",
    ")"
   ]
  }
 ],
 "metadata": {
  "kernelspec": {
   "display_name": "web_crawler",
   "language": "python",
   "name": "python3"
  },
  "language_info": {
   "codemirror_mode": {
    "name": "ipython",
    "version": 3
   },
   "file_extension": ".py",
   "mimetype": "text/x-python",
   "name": "python",
   "nbconvert_exporter": "python",
   "pygments_lexer": "ipython3",
   "version": "3.12.2"
  }
 },
 "nbformat": 4,
 "nbformat_minor": 2
}
