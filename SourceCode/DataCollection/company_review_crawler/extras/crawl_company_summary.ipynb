{
 "cells": [
  {
   "cell_type": "code",
   "execution_count": 1,
   "metadata": {},
   "outputs": [],
   "source": [
    "\n",
    "# Setup\n",
    "from selenium import webdriver\n",
    "from selenium.webdriver.chrome.options import Options\n",
    "import pandas as pd\n",
    "from page_objects.login_page import LoginPage\n",
    "from page_objects.companies_page import CompaniesPage\n",
    "from page_objects.nav import Nav\n",
    "from page_objects.company_details_page import CompanyDetailPage\n",
    "from page_objects.utils import get_text_from_elem\n",
    "import os\n",
    "from datetime import date\n",
    "import logging\n",
    "\n",
    "options = Options()\n",
    "options.add_argument(\"window-size=1200x600\")\n",
    "\n",
    "driver = webdriver.Chrome(options=options)\n",
    "\n",
    "driver.get(\"https://www.glassdoor.sg\")\n",
    "\n",
    "filename_suffix = date.today().strftime('%Y-%m-%d')\n",
    "\n",
    "logging.basicConfig(filename=f'crawl_summary_{filename_suffix}.log', encoding='utf-8', level=logging.INFO)\n",
    "\n",
    "# Init page objects\n",
    "login_page = LoginPage(driver)\n",
    "nav = Nav(driver)\n",
    "companies_page = CompaniesPage(driver)\n",
    "companies_details_page = CompanyDetailPage(driver)"
   ]
  },
  {
   "cell_type": "code",
   "execution_count": 2,
   "metadata": {},
   "outputs": [],
   "source": [
    "# Login\n",
    "login_page.login()"
   ]
  },
  {
   "cell_type": "code",
   "execution_count": 3,
   "metadata": {},
   "outputs": [],
   "source": [
    "# Route to 'Companies' page\n",
    "nav.route_to_companies()\n",
    "\n",
    "# Filter by location and job function in 'Companies' page\n",
    "companies_page.filter_by_location('Singapore', 'Singapore (Singapore)')\n",
    "companies_page.filter_by_job_function(['Engineering', 'Information Technology'])"
   ]
  },
  {
   "cell_type": "code",
   "execution_count": 4,
   "metadata": {},
   "outputs": [],
   "source": [
    "df = None\n",
    "def crawl_company_summary(elem, idx):\n",
    "    global df\n",
    "    data = {\n",
    "        'company_name': get_text_from_elem(elem, 'h2[data-test=\"employer-short-name\"]'),\n",
    "        'rating': get_text_from_elem(elem, 'span[data-test=\"rating\"]'),\n",
    "        'no_of_reviews': get_text_from_elem(elem, 'h3[data-test=\"cell-Reviews-count\"]'),\n",
    "        'no_of_salaries': get_text_from_elem(elem, 'h3[data-test=\"cell-Salaries-count\"]'),\n",
    "        'no_of_jobs':get_text_from_elem(elem, 'h3[data-test=\"cell-Jobs-count\"]'),\n",
    "        'location': get_text_from_elem(elem, 'span[data-test=\"employer-location\"]'),\n",
    "        'global_company_size': get_text_from_elem(elem, 'span[data-test=\"employer-size\"]'),\n",
    "        'industry': get_text_from_elem(elem, 'span[data-test=\"employer-industry\"]'),\n",
    "        'description': get_text_from_elem(elem, 'p')\n",
    "    }\n",
    "    df = pd.concat([df, pd.DataFrame([data])]) if df is not None else pd.DataFrame([data])"
   ]
  },
  {
   "cell_type": "code",
   "execution_count": 5,
   "metadata": {},
   "outputs": [],
   "source": [
    "# Crawl 'Companies' page\n",
    "logging.info('Started crawling company summaries.')\n",
    "\n",
    "companies_page.iterate_pages(\n",
    "    crawl_company_summary,\n",
    "    start=1,\n",
    "    end=100,\n",
    "    suppress_page_error=True\n",
    ")\n",
    "\n",
    "driver.quit()"
   ]
  },
  {
   "cell_type": "code",
   "execution_count": 6,
   "metadata": {},
   "outputs": [],
   "source": [
    "# Extract to csv\n",
    "csv_filename = f'company_summary_{filename_suffix}.csv'\n",
    "\n",
    "if os.path.isfile(f'./{csv_filename}'):\n",
    "    df.to_csv(csv_filename, mode='a', header=False)\n",
    "else:\n",
    "    df.to_csv(csv_filename)"
   ]
  }
 ],
 "metadata": {
  "kernelspec": {
   "display_name": "web_crawler",
   "language": "python",
   "name": "python3"
  },
  "language_info": {
   "codemirror_mode": {
    "name": "ipython",
    "version": 3
   },
   "file_extension": ".py",
   "mimetype": "text/x-python",
   "name": "python",
   "nbconvert_exporter": "python",
   "pygments_lexer": "ipython3",
   "version": "3.12.2"
  }
 },
 "nbformat": 4,
 "nbformat_minor": 2
}
