{
 "cells": [
  {
   "cell_type": "code",
   "execution_count": 6,
   "id": "3e9e5a33-b274-482b-b84c-00e840cec32a",
   "metadata": {},
   "outputs": [],
   "source": [
    "from seleniumbase import Driver\n",
    "from seleniumbase import page_actions\n",
    "from selenium.webdriver.support.ui import WebDriverWait\n",
    "from selenium.webdriver.common.by import By\n",
    "from selenium.webdriver.support import expected_conditions as EC\n",
    "import time\n",
    "import csv\n",
    "\n",
    "class CareerFuture:\n",
    "    def __init__(self):\n",
    "        self.driver = Driver(uc=True)\n",
    "        self.links_list = []\n",
    "        self.Scrap()\n",
    "        \n",
    "    def Scrap(self):\n",
    "        url = \"https://www.mycareersfuture.gov.sg/job/information-technology?sortBy=new_posting_date&page=\"\n",
    "        for i in range(100):\n",
    "            job_list_url = url + str(i)\n",
    "            self.driver.get(job_list_url)\n",
    "            time.sleep(1)\n",
    "            links = self.driver.find_elements(by = By.XPATH,value=\"(//a[@class='bg-white mb3 w-100 dib v-top pa3 no-underline flex-ns flex-wrap JobCard__card___22xP3'])\")\n",
    "            for l in links:\n",
    "                try:\n",
    "                    job_link = l.get_attribute(\"href\")\n",
    "                    self.links_list.append(job_link)\n",
    "                except:\n",
    "                    continue\n",
    "        with open('existing_file.csv', 'a', newline='',  encoding='utf-8') as file:\n",
    "            writer = csv.writer(file)\n",
    "            writer.writerow([\"Job Description\", \"Tags\"])\n",
    "            for l in self.links_list:\n",
    "                self.driver.get(l)\n",
    "                time.sleep(1)\n",
    "                try:\n",
    "                    job_description = self.driver.find_element(by = By.CSS_SELECTOR,value= \"#description-content\")\n",
    "                    tags = self.driver.find_elements(by = By.XPATH,value= \"(//div[contains(@class,'pill-button dib ma1')])\")\n",
    "                    tag_list = str()\n",
    "                    for t in tags:\n",
    "                        tag_list += \"[\"\n",
    "                        tag_list += t.text\n",
    "                        tag_list += \"]\"\n",
    "                    writer.writerow([job_description.text, tag_list])\n",
    "                except:\n",
    "                    continue\n",
    "             \n",
    "\n",
    "        \n",
    "test = CareerFuture()"
   ]
  },
  {
   "cell_type": "code",
   "execution_count": null,
   "id": "5c9c6237-d4c7-4e65-86fa-3ddcc854fc86",
   "metadata": {},
   "outputs": [],
   "source": []
  },
  {
   "cell_type": "code",
   "execution_count": null,
   "id": "58b99977-6a73-4ded-98d5-919427749d2b",
   "metadata": {},
   "outputs": [],
   "source": []
  }
 ],
 "metadata": {
  "kernelspec": {
   "display_name": "Python 3 (ipykernel)",
   "language": "python",
   "name": "python3"
  },
  "language_info": {
   "codemirror_mode": {
    "name": "ipython",
    "version": 3
   },
   "file_extension": ".py",
   "mimetype": "text/x-python",
   "name": "python",
   "nbconvert_exporter": "python",
   "pygments_lexer": "ipython3",
   "version": "3.10.13"
  }
 },
 "nbformat": 4,
 "nbformat_minor": 5
}
