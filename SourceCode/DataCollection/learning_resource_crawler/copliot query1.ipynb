{
 "cells": [
  {
   "cell_type": "code",
   "execution_count": 8,
   "id": "1234421c-1125-4bdf-943e-fe10c9e2ab61",
   "metadata": {
    "editable": true,
    "slideshow": {
     "slide_type": ""
    },
    "tags": []
   },
   "outputs": [],
   "source": [
    "from seleniumbase import Driver\n",
    "from seleniumbase import page_actions\n",
    "from selenium.webdriver.support.ui import WebDriverWait\n",
    "from selenium.webdriver.common.by import By\n",
    "from selenium.webdriver.support import expected_conditions as EC\n",
    "import os\n",
    "import requests\n",
    "import time\n",
    "import csv\n",
    "import pandas as pd\n",
    "import multiprocessing \n",
    "import threading\n",
    "import random\n",
    "import concurrent.futures\n",
    "class Copliot:\n",
    "    def __init__(self):\n",
    "        self.driver = Driver(uc=True)\n",
    "        self.query_dict_list = {}\n",
    "        self.queue = []\n",
    "        self.start =0\n",
    "        self.end = 0\n",
    "       \n",
    "\n",
    "    def InitQueryList(self,file):   \n",
    "        df = pd.read_csv(file, usecols=['Name','Search Keyword'])\n",
    "        for index, row in df.iterrows():\n",
    "            key =  str(row['Search Keyword'])\n",
    "            value = str(row['Name'])\n",
    "            if key is not self.query_dict_list:\n",
    "                self.query_dict_list[key]= value\n",
    "                self.queue.append(key)\n",
    "\n",
    "        self.end = len(self.queue)\n",
    "        print(self.end)\n",
    "        \n",
    "    def Login(self,id,pw):\n",
    "        url = \"https://login.live.com/\"\n",
    "        try:\n",
    "            t = random.uniform(0.0, 2.0)\n",
    "            print(t,\"\\n\")\n",
    "            time.sleep(t)\n",
    "            self.driver.get(url)\n",
    "            #time.sleep(3)\n",
    "            #id_field = self.driver.find_element(by=By.XPATH, value=\"(//input[@id='i0116'])[1]\")\n",
    "            #id_field.send_keys(id)\n",
    "            #WebDriverWait(self.driver, 1).until(EC.element_to_be_clickable((By.XPATH, \"(//button[normalize-space()='Next'])[1]\"))).click()\n",
    "            #time.sleep(2)\n",
    "            #pw_field = self.driver.find_element(by=By.XPATH, value=\"(//input[@id='i0118'])[1]\")\n",
    "            #pw_field.send_keys(pw)\n",
    "            #WebDriverWait(self.driver, 1).until(EC.element_to_be_clickable((By.XPATH, \"(//button[normalize-space()='Sign in'])[1]\"))).click()\n",
    "            #time.sleep(2)\n",
    "        except:\n",
    "            return False\n",
    "\n",
    "        return True\n",
    "        \n",
    "    def GoToCopliot(self):\n",
    "        url = \"https://www.bing.com/search?q=Bing%20AI&showconv=1&form=MG0AUO\"\n",
    "        # go 3 time to bypass the popup\n",
    "        self.driver.get(url)\n",
    "        time.sleep(2)\n",
    "        self.driver.get(url)\n",
    "        time.sleep(2)\n",
    "        return True\n",
    "\n",
    "    def QueryCopliot(self):\n",
    "        if self.start < self.end:\n",
    "            keyword = self.queue[self.start]\n",
    "           \n",
    "            url = \"https://www.bing.com/search?q=Bing%20AI&showconv=1&form=MG0AUO\"\n",
    "            query = \"what is \"+ keyword +\" in one sentence and give me 5 reference links which I can learn for free.\" \n",
    "            dir = \"skill unclassified/not tech\"\n",
    "       \n",
    "            path = dir + \"/\" +self.query_dict_list.get(keyword) + \".html\"\n",
    "            with open(path, 'w', encoding='utf-8') as file:\n",
    "                self.driver.get(url)\n",
    "                time.sleep(5)\n",
    "                dom1 = self.driver.find_element(by=By.CSS_SELECTOR, value=\".cib-serp-main\").shadow_root\n",
    "                input_shadow_dom2 = dom1.find_element(by=By.CSS_SELECTOR, value=\"#cib-action-bar-main\").shadow_root\n",
    "                input_shadow_dom3 = input_shadow_dom2.find_element(by=By.CSS_SELECTOR, value=\"cib-text-input[serp-slot='none']\").shadow_root\n",
    "                text_field = input_shadow_dom3.find_element(by=By.CSS_SELECTOR, value=\"#searchbox\")\n",
    "                text_field.send_keys(query)\n",
    "                time.sleep(1)\n",
    "                input_shadow_dom2.find_element(by=By.CSS_SELECTOR, value=\"button[aria-label='Submit']\").click()\n",
    "                time.sleep(30)\n",
    "                response_shadow_dom2 = dom1.find_element(by=By.CSS_SELECTOR, value=\"#cib-conversation-main\").shadow_root\n",
    "                response_shadow_dom3 = response_shadow_dom2.find_element(by=By.CSS_SELECTOR, value=\"cib-chat-turn[serp-slot='none']\").shadow_root\n",
    "                response_shadow_dom4 = response_shadow_dom3.find_element(by=By.CSS_SELECTOR, value=\".response-message-group\").shadow_root\n",
    "                response_shadow_dom5 = response_shadow_dom4.find_element(by=By.CSS_SELECTOR, value=\"cib-message:nth-child(2)\").shadow_root\n",
    "                response = response_shadow_dom5.find_element(by=By.CSS_SELECTOR, value=\"div[class='content']\")\n",
    "                content = response.get_attribute(\"innerHTML\")\n",
    "                file.write(content)  \n",
    "                file.close()\n",
    "                print(self.start,keyword,\"\\n\")\n",
    "            file.close()\n",
    "            self.start += 1\n",
    "            self.QueryCopliot()\n",
    "              \n",
    "\n",
    "    def CloseDriver(self):\n",
    "        print(\"run\")\n",
    "        self.driver.Quit()\n",
    "                    \n",
    "       \n",
    "    \n",
    "\n",
    "\n",
    "    "
   ]
  },
  {
   "cell_type": "code",
   "execution_count": 9,
   "id": "55fa3ad8-0376-497f-abe0-81f64cf23f95",
   "metadata": {},
   "outputs": [],
   "source": [
    "test = Copliot()"
   ]
  },
  {
   "cell_type": "code",
   "execution_count": 11,
   "id": "82e9a0d6-a709-4eab-99bc-87f5f2b508a3",
   "metadata": {},
   "outputs": [],
   "source": [
    "test.query_dict_list.clear()\n",
    "test.queue.clear()"
   ]
  },
  {
   "cell_type": "code",
   "execution_count": 12,
   "id": "588925da-3fdc-4e54-bad8-b1a88cdf5d9e",
   "metadata": {},
   "outputs": [
    {
     "name": "stdout",
     "output_type": "stream",
     "text": [
      "7\n"
     ]
    }
   ],
   "source": [
    "test.InitQueryList(\"not found.csv\")\n"
   ]
  },
  {
   "cell_type": "code",
   "execution_count": 13,
   "id": "8f38e1ae-e9f2-4493-83a2-698b74783e26",
   "metadata": {},
   "outputs": [
    {
     "name": "stdout",
     "output_type": "stream",
     "text": [
      "0 predictive modeling \n",
      "\n",
      "1 exploratory data analysis  \n",
      "\n",
      "2 statistical analysis \n",
      "\n",
      "3 unstructured datasets \n",
      "\n",
      "4 unstructured data \n",
      "\n",
      "5 automated testing \n",
      "\n",
      "6 containerization \n",
      "\n"
     ]
    }
   ],
   "source": [
    "test.QueryCopliot()"
   ]
  },
  {
   "cell_type": "code",
   "execution_count": null,
   "id": "019eb383-4ed6-4c4c-864b-88a810065a7d",
   "metadata": {},
   "outputs": [],
   "source": []
  }
 ],
 "metadata": {
  "kernelspec": {
   "display_name": "Python 3 (ipykernel)",
   "language": "python",
   "name": "python3"
  },
  "language_info": {
   "codemirror_mode": {
    "name": "ipython",
    "version": 3
   },
   "file_extension": ".py",
   "mimetype": "text/x-python",
   "name": "python",
   "nbconvert_exporter": "python",
   "pygments_lexer": "ipython3",
   "version": "3.10.13"
  }
 },
 "nbformat": 4,
 "nbformat_minor": 5
}
